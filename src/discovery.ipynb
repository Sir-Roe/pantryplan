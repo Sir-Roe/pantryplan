{
 "cells": [
  {
   "cell_type": "markdown",
   "metadata": {},
   "source": [
    "Lets examine the links and scrape \n"
   ]
  },
  {
   "cell_type": "code",
   "execution_count": 9,
   "metadata": {},
   "outputs": [],
   "source": [
    "from bs4 import BeautifulSoup\n",
    "import pandas as pd\n",
    "import requests\n"
   ]
  },
  {
   "cell_type": "code",
   "execution_count": 10,
   "metadata": {},
   "outputs": [],
   "source": [
    "all_url = \"https://www.allrecipes.com/recipes-a-z-6735880\"\n",
    "url = \"https://www.allrecipes.com/air-fryer-hearts-of-palm-sticks-recipe-7814346\""
   ]
  },
  {
   "cell_type": "markdown",
   "metadata": {},
   "source": [
    "Block to scrape the actual recipe"
   ]
  },
  {
   "cell_type": "code",
   "execution_count": 11,
   "metadata": {},
   "outputs": [],
   "source": [
    "start=url.rfind('-')+1\n",
    "rkey=url[start:]"
   ]
  },
  {
   "cell_type": "code",
   "execution_count": 12,
   "metadata": {},
   "outputs": [],
   "source": [
    "response=requests.get(url)\n",
    "\n",
    "# Check if the request was successful (status code 200)\n",
    "if response.status_code == 200:\n",
    "    # Parse the HTML content of the page using BeautifulSoup\n",
    "    soup = BeautifulSoup(response.text, 'html.parser')\n",
    "    #WHERE all recipe data is stored\n",
    "    soup = soup.body.main.article\n",
    "else:\n",
    "    print(\"Failed to retrieve the web page.\")\n",
    "\n"
   ]
  },
  {
   "cell_type": "markdown",
   "metadata": {},
   "source": [
    "Build recipe dictionary"
   ]
  },
  {
   "cell_type": "code",
   "execution_count": 13,
   "metadata": {},
   "outputs": [],
   "source": [
    "recipe ={}\n",
    "recipe['id_recipe']=rkey"
   ]
  },
  {
   "cell_type": "markdown",
   "metadata": {},
   "source": [
    "Grab the prep block info"
   ]
  },
  {
   "cell_type": "code",
   "execution_count": 14,
   "metadata": {},
   "outputs": [
    {
     "name": "stdout",
     "output_type": "stream",
     "text": [
      "[<div class=\"mntl-recipe-details__value\">15 mins</div>, <div class=\"mntl-recipe-details__value\">12 mins</div>, <div class=\"mntl-recipe-details__value\">20 mins</div>, <div class=\"mntl-recipe-details__value\">47 mins</div>, <div class=\"mntl-recipe-details__value\">2 </div>]\n"
     ]
    }
   ],
   "source": [
    "rlabels = soup.find_all(\"div\", {\"class\": \"mntl-recipe-details__label\"})\n",
    "rinfo = soup.find_all(\"div\", {\"class\": \"mntl-recipe-details__value\"})\n",
    "print(rinfo)\n"
   ]
  },
  {
   "cell_type": "code",
   "execution_count": 15,
   "metadata": {},
   "outputs": [],
   "source": [
    "label=[lab.text for lab in rlabels]\n",
    "value=[val.text for val in rinfo]\n",
    "\n",
    "recipe.update(dict(zip(label,value)))\n"
   ]
  },
  {
   "cell_type": "code",
   "execution_count": 16,
   "metadata": {},
   "outputs": [
    {
     "data": {
      "text/plain": [
       "{'id_recipe': '7814346',\n",
       " 'Prep Time:': '15 mins',\n",
       " 'Cook Time:': '12 mins',\n",
       " 'Freeze Time:': '20 mins',\n",
       " 'Total Time:': '47 mins',\n",
       " 'Servings:': '2 '}"
      ]
     },
     "metadata": {},
     "output_type": "display_data"
    }
   ],
   "source": [
    "display(recipe)"
   ]
  },
  {
   "cell_type": "markdown",
   "metadata": {},
   "source": [
    "Get Nutritional header data"
   ]
  },
  {
   "cell_type": "code",
   "execution_count": 17,
   "metadata": {},
   "outputs": [],
   "source": [
    "#grab nutritional data\n",
    "# Find the <th> element with the specified class\n",
    "th_element = soup.find('thead', class_='mntl-nutrition-facts-label__table-head')\n",
    "soup_head = th_element\n",
    "# Check if the <th> element was found\n",
    "if th_element:\n",
    "    # Find the <span> element within the <th> element\n",
    "    span_element = soup_head.find_all('span')\n",
    "    # Check if the <span> element was found\n",
    "    if span_element:\n",
    "        #2nd and 4th element are the data values\n",
    "        recipe[span_element[0].text.strip()]=span_element[1].text.strip()\n",
    "        recipe[span_element[2].text.strip()]=span_element[3].text.strip()\n",
    "    else:\n",
    "        #recipe['Servings Per Recipe']=''\n",
    "        print(\"The <span> element with class 'mntl-nutrition-facts-label__table-head-pretext' was not found within the <th> element.\")\n",
    "else:\n",
    "    print(\"The <th> element with class 'mntl-nutrition-facts-label__table-head-subtitle' was not found in the HTML.\")\n"
   ]
  },
  {
   "cell_type": "code",
   "execution_count": 45,
   "metadata": {},
   "outputs": [
    {
     "name": "stdout",
     "output_type": "stream",
     "text": [
      "<span class=\"mntl-nutrition-facts-label__nutrient-name mntl-nutrition-facts-label__nutrient-name--has-postfix\">Total Fat</span> None\n",
      "<span class=\"mntl-nutrition-facts-label__nutrient-name mntl-nutrition-facts-label__nutrient-name--has-postfix\">Saturated Fat</span> None\n",
      "<span class=\"mntl-nutrition-facts-label__nutrient-name mntl-nutrition-facts-label__nutrient-name--has-postfix\">Cholesterol</span> None\n",
      "<span class=\"mntl-nutrition-facts-label__nutrient-name mntl-nutrition-facts-label__nutrient-name--has-postfix\">Sodium</span> None\n",
      "<span class=\"mntl-nutrition-facts-label__nutrient-name mntl-nutrition-facts-label__nutrient-name--has-postfix\">Total Carbohydrate</span> None\n",
      "<span class=\"mntl-nutrition-facts-label__nutrient-name mntl-nutrition-facts-label__nutrient-name--has-postfix\">Dietary Fiber</span> None\n",
      "<span class=\"mntl-nutrition-facts-label__nutrient-name mntl-nutrition-facts-label__nutrient-name--has-postfix\">Total Sugars</span> None\n",
      "<span class=\"mntl-nutrition-facts-label__nutrient-name mntl-nutrition-facts-label__nutrient-name--has-postfix\">Protein</span> None\n",
      "<span class=\"mntl-nutrition-facts-label__nutrient-name mntl-nutrition-facts-label__nutrient-name--has-postfix\">Vitamin C</span> None\n",
      "<span class=\"mntl-nutrition-facts-label__nutrient-name mntl-nutrition-facts-label__nutrient-name--has-postfix\">Calcium</span> None\n",
      "<span class=\"mntl-nutrition-facts-label__nutrient-name mntl-nutrition-facts-label__nutrient-name--has-postfix\">Iron</span> None\n",
      "<span class=\"mntl-nutrition-facts-label__nutrient-name mntl-nutrition-facts-label__nutrient-name--has-postfix\">Potassium</span> None\n",
      "[<span class=\"mntl-nutrition-facts-label__nutrient-name mntl-nutrition-facts-label__nutrient-name--has-postfix\">Total Fat</span>, <span class=\"mntl-nutrition-facts-label__nutrient-name mntl-nutrition-facts-label__nutrient-name--has-postfix\">Saturated Fat</span>, <span class=\"mntl-nutrition-facts-label__nutrient-name mntl-nutrition-facts-label__nutrient-name--has-postfix\">Cholesterol</span>, <span class=\"mntl-nutrition-facts-label__nutrient-name mntl-nutrition-facts-label__nutrient-name--has-postfix\">Sodium</span>, <span class=\"mntl-nutrition-facts-label__nutrient-name mntl-nutrition-facts-label__nutrient-name--has-postfix\">Total Carbohydrate</span>, <span class=\"mntl-nutrition-facts-label__nutrient-name mntl-nutrition-facts-label__nutrient-name--has-postfix\">Dietary Fiber</span>, <span class=\"mntl-nutrition-facts-label__nutrient-name mntl-nutrition-facts-label__nutrient-name--has-postfix\">Total Sugars</span>, <span class=\"mntl-nutrition-facts-label__nutrient-name mntl-nutrition-facts-label__nutrient-name--has-postfix\">Protein</span>, <span class=\"mntl-nutrition-facts-label__nutrient-name mntl-nutrition-facts-label__nutrient-name--has-postfix\">Vitamin C</span>, <span class=\"mntl-nutrition-facts-label__nutrient-name mntl-nutrition-facts-label__nutrient-name--has-postfix\">Calcium</span>, <span class=\"mntl-nutrition-facts-label__nutrient-name mntl-nutrition-facts-label__nutrient-name--has-postfix\">Iron</span>, <span class=\"mntl-nutrition-facts-label__nutrient-name mntl-nutrition-facts-label__nutrient-name--has-postfix\">Potassium</span>]\n",
      "{'id_recipe': '7814346', 'Prep Time:': '15 mins', 'Cook Time:': '12 mins', 'Freeze Time:': '20 mins', 'Total Time:': '47 mins', 'Servings:': '2 ', 'Servings Per Recipe': '2', 'Calories': '257'}\n"
     ]
    }
   ],
   "source": [
    "#grab nutritional data\n",
    "# Find the <th> element with the specified class\n",
    "td_element = soup.find('tbody', class_=\"mntl-nutrition-facts-label__table-body type--cat\")\n",
    "soup_body = td_element\n",
    "\n",
    "#\n",
    "\n",
    "# Find the <td> element\n",
    "element = soup_body.find_all('span', class_='mntl-nutrition-facts-label__nutrient-name')\n",
    "\n",
    "for span_element in element:\n",
    "\n",
    "    thread_element = span_element.find_next_sibling('tr')\n",
    "    print(span_element, thread_element)\n",
    "\n",
    "print(element)\n",
    "\n",
    "print(recipe)\n"
   ]
  },
  {
   "cell_type": "code",
   "execution_count": 22,
   "metadata": {},
   "outputs": [
    {
     "name": "stdout",
     "output_type": "stream",
     "text": [
      "https://www.allrecipes.com/air-fryer-hearts-of-palm-sticks-recipe-7814346\n"
     ]
    }
   ],
   "source": [
    "print(url)"
   ]
  },
  {
   "cell_type": "markdown",
   "metadata": {},
   "source": [
    "Grab ingredients - this is a seperate DF\n"
   ]
  },
  {
   "cell_type": "code",
   "execution_count": 19,
   "metadata": {},
   "outputs": [],
   "source": [
    "ul_element = soup.find('ul', class_='mntl-structured-ingredients__list')"
   ]
  },
  {
   "cell_type": "markdown",
   "metadata": {},
   "source": [
    "grab ingredients"
   ]
  },
  {
   "cell_type": "code",
   "execution_count": 20,
   "metadata": {},
   "outputs": [],
   "source": [
    "\n",
    "\n",
    "# Find the <ul> element with the specified class\n",
    "ul_element = soup.find('ul', class_='mntl-structured-ingredients__list')\n",
    "\n",
    "# Check if the <ul> element was found\n",
    "if ul_element:\n",
    "    # Find all <li> elements within the <ul> element\n",
    "    li_elements = ul_element.find_all('li', class_='mntl-structured-ingredients__list-item')\n",
    "    \n",
    "    # Initialize lists to store extracted data\n",
    "    quantities = []\n",
    "    units = []\n",
    "    ingredients = []\n",
    "    \n",
    "    # Iterate through the <li> elements and extract data\n",
    "    for li in li_elements:\n",
    "        span_quantity = li.find('span', {'data-ingredient-quantity': 'true'})\n",
    "        span_unit = li.find('span', {'data-ingredient-unit': 'true'})\n",
    "        span_ingredient = li.find('span', {'data-ingredient-name': 'true'})\n",
    "        \n",
    "        if span_quantity:\n",
    "            quantities.append(span_quantity.text.strip())\n",
    "        else:\n",
    "            quantities.append('')\n",
    "        \n",
    "        if span_unit:\n",
    "            units.append(span_unit.text.strip())\n",
    "        else:\n",
    "            units.append('')\n",
    "        \n",
    "        if span_ingredient:\n",
    "            ingredients.append(span_ingredient.text.strip())\n",
    "        else:\n",
    "            ingredients.append('')\n",
    "    \n",
    "    # Print the extracted data\n",
    "    temp_ing_df = pd.DataFrame({'id_recipe':rkey,'Quantity': quantities, 'Unit of Measure': units, 'Ingredient': ingredients})\n",
    "    \n",
    "else:\n",
    "    print(\"The <ul> element with class 'mntl-structured-ingredients__list' was not found in the HTML.\")"
   ]
  },
  {
   "cell_type": "code",
   "execution_count": null,
   "metadata": {},
   "outputs": [],
   "source": []
  },
  {
   "cell_type": "code",
   "execution_count": null,
   "metadata": {},
   "outputs": [],
   "source": []
  }
 ],
 "metadata": {
  "kernelspec": {
   "display_name": "base",
   "language": "python",
   "name": "python3"
  },
  "language_info": {
   "codemirror_mode": {
    "name": "ipython",
    "version": 3
   },
   "file_extension": ".py",
   "mimetype": "text/x-python",
   "name": "python",
   "nbconvert_exporter": "python",
   "pygments_lexer": "ipython3",
   "version": "3.11.4"
  },
  "orig_nbformat": 4
 },
 "nbformat": 4,
 "nbformat_minor": 2
}
