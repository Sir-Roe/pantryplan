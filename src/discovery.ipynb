{
 "cells": [
  {
   "cell_type": "markdown",
   "metadata": {},
   "source": [
    "Lets examine the links and scrape \n"
   ]
  },
  {
   "cell_type": "code",
   "execution_count": 1,
   "metadata": {},
   "outputs": [],
   "source": [
    "from bs4 import BeautifulSoup\n",
    "import pandas as pd\n",
    "import requests\n"
   ]
  },
  {
   "cell_type": "code",
   "execution_count": 31,
   "metadata": {},
   "outputs": [],
   "source": [
    "all_url = \"https://www.allrecipes.com/recipes-a-z-6735880\"\n",
    "url = \"https://www.allrecipes.com/air-fryer-hearts-of-palm-sticks-recipe-7814346\""
   ]
  },
  {
   "cell_type": "markdown",
   "metadata": {},
   "source": [
    "Block to scrape the actual recipe"
   ]
  },
  {
   "cell_type": "code",
   "execution_count": 127,
   "metadata": {},
   "outputs": [],
   "source": [
    "start=url.rfind('-')+1\n",
    "rkey=url[start:]"
   ]
  },
  {
   "cell_type": "code",
   "execution_count": 82,
   "metadata": {},
   "outputs": [],
   "source": [
    "response=requests.get(url)\n",
    "\n",
    "# Check if the request was successful (status code 200)\n",
    "if response.status_code == 200:\n",
    "    # Parse the HTML content of the page using BeautifulSoup\n",
    "    soup = BeautifulSoup(response.text, 'html.parser')\n",
    "    #WHERE all recipe data is stored\n",
    "    soup = soup.body.main.article\n",
    "else:\n",
    "    print(\"Failed to retrieve the web page.\")\n",
    "\n"
   ]
  },
  {
   "cell_type": "markdown",
   "metadata": {},
   "source": [
    "Build recipe dictionary"
   ]
  },
  {
   "cell_type": "code",
   "execution_count": 143,
   "metadata": {},
   "outputs": [],
   "source": [
    "recipe ={}\n",
    "recipe['id_recipe']=rkey"
   ]
  },
  {
   "cell_type": "markdown",
   "metadata": {},
   "source": [
    "Grab the prep block info"
   ]
  },
  {
   "cell_type": "code",
   "execution_count": 144,
   "metadata": {},
   "outputs": [
    {
     "name": "stdout",
     "output_type": "stream",
     "text": [
      "[<div class=\"mntl-recipe-details__value\">15 mins</div>, <div class=\"mntl-recipe-details__value\">12 mins</div>, <div class=\"mntl-recipe-details__value\">20 mins</div>, <div class=\"mntl-recipe-details__value\">47 mins</div>, <div class=\"mntl-recipe-details__value\">2 </div>]\n"
     ]
    }
   ],
   "source": [
    "rlabels = soup.find_all(\"div\", {\"class\": \"mntl-recipe-details__label\"})\n",
    "rinfo = soup.find_all(\"div\", {\"class\": \"mntl-recipe-details__value\"})\n",
    "print(rinfo)\n"
   ]
  },
  {
   "cell_type": "code",
   "execution_count": 145,
   "metadata": {},
   "outputs": [],
   "source": [
    "label=[lab.text for lab in rlabels]\n",
    "value=[val.text for val in rinfo]\n",
    "\n",
    "recipe.update(dict(zip(label,value)))\n"
   ]
  },
  {
   "cell_type": "code",
   "execution_count": 146,
   "metadata": {},
   "outputs": [
    {
     "data": {
      "text/plain": [
       "{'id_recipe': '7814346',\n",
       " 'Prep Time:': '15 mins',\n",
       " 'Cook Time:': '12 mins',\n",
       " 'Freeze Time:': '20 mins',\n",
       " 'Total Time:': '47 mins',\n",
       " 'Servings:': '2 '}"
      ]
     },
     "metadata": {},
     "output_type": "display_data"
    }
   ],
   "source": [
    "display(recipe)"
   ]
  },
  {
   "cell_type": "markdown",
   "metadata": {},
   "source": [
    "Get Nutritional header data"
   ]
  },
  {
   "cell_type": "code",
   "execution_count": 161,
   "metadata": {},
   "outputs": [],
   "source": [
    "#grab nutritional data\n",
    "# Find the <th> element with the specified class\n",
    "th_element = soup.find('thead', class_='mntl-nutrition-facts-label__table-head')\n",
    "soup_head = th_element\n",
    "# Check if the <th> element was found\n",
    "if th_element:\n",
    "    # Find the <span> element within the <th> element\n",
    "    span_element = soup_head.find_all('span')\n",
    "    # Check if the <span> element was found\n",
    "    if span_element:\n",
    "        #2nd and 4th element are the data values\n",
    "        recipe[span_element[0].text.strip()]=span_element[1].text.strip()\n",
    "        recipe[span_element[2].text.strip()]=span_element[3].text.strip()\n",
    "    else:\n",
    "        #recipe['Servings Per Recipe']=''\n",
    "        print(\"The <span> element with class 'mntl-nutrition-facts-label__table-head-pretext' was not found within the <th> element.\")\n",
    "else:\n",
    "    print(\"The <th> element with class 'mntl-nutrition-facts-label__table-head-subtitle' was not found in the HTML.\")\n"
   ]
  },
  {
   "cell_type": "code",
   "execution_count": 163,
   "metadata": {},
   "outputs": [],
   "source": [
    "#grab nutritional data\n",
    "# Find the <th> element with the specified class\n",
    "tr_element = soup.find('tbody', class_=\"mntl-nutrition-facts-label__table-body type--cat\")\n",
    "soup_body = tr_element\n",
    "# Check if the <th> element was found"
   ]
  },
  {
   "cell_type": "markdown",
   "metadata": {},
   "source": [
    "Grab ingredients - this is a seperate DF\n"
   ]
  },
  {
   "cell_type": "code",
   "execution_count": 108,
   "metadata": {},
   "outputs": [],
   "source": [
    "ul_element = soup.find('ul', class_='mntl-structured-ingredients__list')"
   ]
  },
  {
   "cell_type": "markdown",
   "metadata": {},
   "source": [
    "grab ingredients"
   ]
  },
  {
   "cell_type": "code",
   "execution_count": 150,
   "metadata": {},
   "outputs": [],
   "source": [
    "\n",
    "\n",
    "# Find the <ul> element with the specified class\n",
    "ul_element = soup.find('ul', class_='mntl-structured-ingredients__list')\n",
    "\n",
    "# Check if the <ul> element was found\n",
    "if ul_element:\n",
    "    # Find all <li> elements within the <ul> element\n",
    "    li_elements = ul_element.find_all('li', class_='mntl-structured-ingredients__list-item')\n",
    "    \n",
    "    # Initialize lists to store extracted data\n",
    "    quantities = []\n",
    "    units = []\n",
    "    ingredients = []\n",
    "    \n",
    "    # Iterate through the <li> elements and extract data\n",
    "    for li in li_elements:\n",
    "        span_quantity = li.find('span', {'data-ingredient-quantity': 'true'})\n",
    "        span_unit = li.find('span', {'data-ingredient-unit': 'true'})\n",
    "        span_ingredient = li.find('span', {'data-ingredient-name': 'true'})\n",
    "        \n",
    "        if span_quantity:\n",
    "            quantities.append(span_quantity.text.strip())\n",
    "        else:\n",
    "            quantities.append('')\n",
    "        \n",
    "        if span_unit:\n",
    "            units.append(span_unit.text.strip())\n",
    "        else:\n",
    "            units.append('')\n",
    "        \n",
    "        if span_ingredient:\n",
    "            ingredients.append(span_ingredient.text.strip())\n",
    "        else:\n",
    "            ingredients.append('')\n",
    "    \n",
    "    # Print the extracted data\n",
    "    temp_ing_df = pd.DataFrame({'id_recipe':rkey,'Quantity': quantities, 'Unit of Measure': units, 'Ingredient': ingredients})\n",
    "    \n",
    "else:\n",
    "    print(\"The <ul> element with class 'mntl-structured-ingredients__list' was not found in the HTML.\")"
   ]
  },
  {
   "cell_type": "code",
   "execution_count": 149,
   "metadata": {},
   "outputs": [
    {
     "data": {
      "text/html": [
       "<div>\n",
       "<style scoped>\n",
       "    .dataframe tbody tr th:only-of-type {\n",
       "        vertical-align: middle;\n",
       "    }\n",
       "\n",
       "    .dataframe tbody tr th {\n",
       "        vertical-align: top;\n",
       "    }\n",
       "\n",
       "    .dataframe thead th {\n",
       "        text-align: right;\n",
       "    }\n",
       "</style>\n",
       "<table border=\"1\" class=\"dataframe\">\n",
       "  <thead>\n",
       "    <tr style=\"text-align: right;\">\n",
       "      <th></th>\n",
       "      <th>id_recipe</th>\n",
       "      <th>Quantity</th>\n",
       "      <th>Unit of Measure</th>\n",
       "      <th>Ingredient</th>\n",
       "    </tr>\n",
       "  </thead>\n",
       "  <tbody>\n",
       "    <tr>\n",
       "      <th>0</th>\n",
       "      <td>7814346</td>\n",
       "      <td>1/4</td>\n",
       "      <td>cup</td>\n",
       "      <td>all-purpose flour</td>\n",
       "    </tr>\n",
       "    <tr>\n",
       "      <th>1</th>\n",
       "      <td>7814346</td>\n",
       "      <td>1/4</td>\n",
       "      <td>teaspoon</td>\n",
       "      <td>salt</td>\n",
       "    </tr>\n",
       "    <tr>\n",
       "      <th>2</th>\n",
       "      <td>7814346</td>\n",
       "      <td>1/8</td>\n",
       "      <td>teaspoon</td>\n",
       "      <td>ground black pepper</td>\n",
       "    </tr>\n",
       "    <tr>\n",
       "      <th>3</th>\n",
       "      <td>7814346</td>\n",
       "      <td>1</td>\n",
       "      <td>large</td>\n",
       "      <td>egg</td>\n",
       "    </tr>\n",
       "    <tr>\n",
       "      <th>4</th>\n",
       "      <td>7814346</td>\n",
       "      <td>1/4</td>\n",
       "      <td>cup</td>\n",
       "      <td>talian bread crumbs</td>\n",
       "    </tr>\n",
       "    <tr>\n",
       "      <th>5</th>\n",
       "      <td>7814346</td>\n",
       "      <td>2</td>\n",
       "      <td>tablespoons</td>\n",
       "      <td>panko bread crumbs</td>\n",
       "    </tr>\n",
       "    <tr>\n",
       "      <th>6</th>\n",
       "      <td>7814346</td>\n",
       "      <td>2</td>\n",
       "      <td>tablespoons</td>\n",
       "      <td>grated Parmesan cheese</td>\n",
       "    </tr>\n",
       "    <tr>\n",
       "      <th>7</th>\n",
       "      <td>7814346</td>\n",
       "      <td>1 (14</td>\n",
       "      <td>ounce) can</td>\n",
       "      <td>hearts of palm, drained</td>\n",
       "    </tr>\n",
       "    <tr>\n",
       "      <th>8</th>\n",
       "      <td>7814346</td>\n",
       "      <td></td>\n",
       "      <td></td>\n",
       "      <td>cooking spray</td>\n",
       "    </tr>\n",
       "  </tbody>\n",
       "</table>\n",
       "</div>"
      ],
      "text/plain": [
       "  id_recipe Quantity Unit of Measure               Ingredient\n",
       "0   7814346      1/4             cup        all-purpose flour\n",
       "1   7814346      1/4        teaspoon                     salt\n",
       "2   7814346      1/8        teaspoon      ground black pepper\n",
       "3   7814346        1           large                      egg\n",
       "4   7814346      1/4             cup      talian bread crumbs\n",
       "5   7814346        2     tablespoons       panko bread crumbs\n",
       "6   7814346        2     tablespoons   grated Parmesan cheese\n",
       "7   7814346    1 (14      ounce) can  hearts of palm, drained\n",
       "8   7814346                                     cooking spray"
      ]
     },
     "execution_count": 149,
     "metadata": {},
     "output_type": "execute_result"
    }
   ],
   "source": []
  },
  {
   "cell_type": "code",
   "execution_count": 119,
   "metadata": {},
   "outputs": [
    {
     "name": "stdout",
     "output_type": "stream",
     "text": [
      "<zip object at 0x000001E340AD3700>\n"
     ]
    }
   ],
   "source": []
  }
 ],
 "metadata": {
  "kernelspec": {
   "display_name": "base",
   "language": "python",
   "name": "python3"
  },
  "language_info": {
   "codemirror_mode": {
    "name": "ipython",
    "version": 3
   },
   "file_extension": ".py",
   "mimetype": "text/x-python",
   "name": "python",
   "nbconvert_exporter": "python",
   "pygments_lexer": "ipython3",
   "version": "3.11.4"
  },
  "orig_nbformat": 4
 },
 "nbformat": 4,
 "nbformat_minor": 2
}
