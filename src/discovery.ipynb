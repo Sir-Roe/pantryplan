{
 "cells": [
  {
   "cell_type": "markdown",
   "metadata": {},
   "source": [
    "Lets examine the links and scrape \n"
   ]
  },
  {
   "cell_type": "code",
   "execution_count": 3,
   "metadata": {},
   "outputs": [],
   "source": [
    "from bs4 import BeautifulSoup\n",
    "import pandas as pd\n",
    "import requests\n"
   ]
  },
  {
   "cell_type": "code",
   "execution_count": 4,
   "metadata": {},
   "outputs": [],
   "source": [
    "all_url = \"https://www.allrecipes.com/recipes-a-z-6735880\"\n",
    "url = \"https://www.allrecipes.com/air-fryer-hearts-of-palm-sticks-recipe-7814346\""
   ]
  },
  {
   "cell_type": "markdown",
   "metadata": {},
   "source": [
    "Block to scrape the actual recipe"
   ]
  },
  {
   "cell_type": "code",
   "execution_count": 6,
   "metadata": {},
   "outputs": [],
   "source": [
    "start=url.rfind('-')+1\n",
    "rkey=url[start:]"
   ]
  },
  {
   "cell_type": "code",
   "execution_count": 7,
   "metadata": {},
   "outputs": [],
   "source": [
    "response=requests.get(url)\n",
    "\n",
    "# Check if the request was successful (status code 200)\n",
    "if response.status_code == 200:\n",
    "    # Parse the HTML content of the page using BeautifulSoup\n",
    "    soup = BeautifulSoup(response.text, 'html.parser')\n",
    "    #WHERE all recipe data is stored\n",
    "    soup = soup.body.main.article\n",
    "else:\n",
    "    print(\"Failed to retrieve the web page.\")\n",
    "\n"
   ]
  },
  {
   "cell_type": "markdown",
   "metadata": {},
   "source": [
    "Build recipe dictionary"
   ]
  },
  {
   "cell_type": "code",
   "execution_count": 29,
   "metadata": {},
   "outputs": [],
   "source": [
    "recipe ={}\n",
    "recipe['id_recipe']=rkey"
   ]
  },
  {
   "cell_type": "markdown",
   "metadata": {},
   "source": [
    "Grab the prep block info"
   ]
  },
  {
   "cell_type": "code",
   "execution_count": 30,
   "metadata": {},
   "outputs": [],
   "source": [
    "rlabels = soup.find_all(\"div\", {\"class\": \"mntl-recipe-details__label\"})\n",
    "rinfo = soup.find_all(\"div\", {\"class\": \"mntl-recipe-details__value\"})\n",
    "\n",
    "label=[lab.text for lab in rlabels]\n",
    "value=[val.text for val in rinfo]\n",
    "\n",
    "recipe.update(dict(zip(label,value)))"
   ]
  },
  {
   "cell_type": "code",
   "execution_count": 31,
   "metadata": {},
   "outputs": [
    {
     "data": {
      "text/plain": [
       "{'id_recipe': '7814346',\n",
       " 'Prep Time:': '15 mins',\n",
       " 'Cook Time:': '12 mins',\n",
       " 'Freeze Time:': '20 mins',\n",
       " 'Total Time:': '47 mins',\n",
       " 'Servings:': '2 '}"
      ]
     },
     "metadata": {},
     "output_type": "display_data"
    }
   ],
   "source": [
    "display(recipe)"
   ]
  },
  {
   "cell_type": "markdown",
   "metadata": {},
   "source": [
    "Get Nutritional header data"
   ]
  },
  {
   "cell_type": "code",
   "execution_count": 32,
   "metadata": {},
   "outputs": [],
   "source": [
    "#grab nutritional data\n",
    "# Find the <th> element with the specified class\n",
    "th_element = soup.find('thead', class_='mntl-nutrition-facts-label__table-head')\n",
    "soup_head = th_element\n",
    "# Check if the <th> element was found\n",
    "\n",
    "# Find the <span> element within the <th> element\n",
    "span_element = soup_head.find_all('span')\n",
    "# Check if the <span> element was found\n",
    "\n",
    "#2nd and 4th element are the data values\n",
    "recipe[span_element[0].text.strip()]=span_element[1].text.strip()\n",
    "recipe[span_element[2].text.strip()]=span_element[3].text.strip()\n"
   ]
  },
  {
   "cell_type": "code",
   "execution_count": 33,
   "metadata": {},
   "outputs": [],
   "source": [
    "#grab nutritional data\n",
    "# Find the <th> element with the specified class\n",
    "td_element = soup.find('tbody', class_=\"mntl-nutrition-facts-label__table-body type--cat\")\n",
    "soup_body = td_element\n",
    "\n",
    "#\n",
    "\n",
    "# Find the <td> element\n",
    "element = soup_body.find_all('tr')\n",
    "\n",
    "for el in element:\n",
    "    nlabel= el.find('span')\n",
    "    if nlabel:\n",
    "        nvalue=el.find_next('td')\n",
    "        nvalue=nvalue.text.strip().splitlines()\n",
    "        recipe[nvalue[0]]=nvalue[1]\n",
    "\n",
    "soup.find('span', class_=\"mntl-nutrition-facts-label__table-body type--cat\")\n"
   ]
  },
  {
   "cell_type": "code",
   "execution_count": 34,
   "metadata": {},
   "outputs": [],
   "source": [
    "# Find the <div> element with the rating\n",
    "rating_div = soup.find('div', class_='comp type--squirrel-bold mntl-recipe-review-bar__rating mntl-text-block')\n",
    "\n",
    "# Find the <div> element with the rating count\n",
    "count_div = soup.find('div', class_='comp type--squirrel mntl-recipe-review-bar__rating-count mntl-text-block')\n",
    "\n",
    "# Extract the rating and count from the <div> elements\n",
    "rating = rating_div.text.strip()\n",
    "count = count_div.text.strip().strip('()')\n",
    "\n",
    "recipe['Average_Review'] = rating\n",
    "recipe['Review_Count'] = count"
   ]
  },
  {
   "cell_type": "code",
   "execution_count": 37,
   "metadata": {},
   "outputs": [
    {
     "name": "stdout",
     "output_type": "stream",
     "text": [
      "{'id_recipe': '7814346', 'Prep Time:': '15 mins', 'Cook Time:': '12 mins', 'Freeze Time:': '20 mins', 'Total Time:': '47 mins', 'Servings:': '2 ', 'Servings Per Recipe': '2', 'Calories': '257', 'Total Fat': '7g', 'Saturated Fat': '2g', 'Cholesterol': '98mg', 'Sodium': '1497mg', 'Total Carbohydrate': '37g', 'Dietary Fiber': '6g', 'Total Sugars': '1g', 'Protein': '14g', 'Vitamin C': '16mg', 'Calcium': '220mg', 'Iron': '8mg', 'Potassium': '462mg', 'Average_Review': '5.0', 'Review_Count': '1'}\n"
     ]
    }
   ],
   "source": [
    "print(recipe)\n",
    "rec_df = pd.DataFrame(recipe, index=[0])"
   ]
  },
  {
   "cell_type": "code",
   "execution_count": 38,
   "metadata": {},
   "outputs": [
    {
     "data": {
      "text/html": [
       "<div>\n",
       "<style scoped>\n",
       "    .dataframe tbody tr th:only-of-type {\n",
       "        vertical-align: middle;\n",
       "    }\n",
       "\n",
       "    .dataframe tbody tr th {\n",
       "        vertical-align: top;\n",
       "    }\n",
       "\n",
       "    .dataframe thead th {\n",
       "        text-align: right;\n",
       "    }\n",
       "</style>\n",
       "<table border=\"1\" class=\"dataframe\">\n",
       "  <thead>\n",
       "    <tr style=\"text-align: right;\">\n",
       "      <th></th>\n",
       "      <th>id_recipe</th>\n",
       "      <th>Prep Time:</th>\n",
       "      <th>Cook Time:</th>\n",
       "      <th>Freeze Time:</th>\n",
       "      <th>Total Time:</th>\n",
       "      <th>Servings:</th>\n",
       "      <th>Servings Per Recipe</th>\n",
       "      <th>Calories</th>\n",
       "      <th>Total Fat</th>\n",
       "      <th>Saturated Fat</th>\n",
       "      <th>...</th>\n",
       "      <th>Total Carbohydrate</th>\n",
       "      <th>Dietary Fiber</th>\n",
       "      <th>Total Sugars</th>\n",
       "      <th>Protein</th>\n",
       "      <th>Vitamin C</th>\n",
       "      <th>Calcium</th>\n",
       "      <th>Iron</th>\n",
       "      <th>Potassium</th>\n",
       "      <th>Average_Review</th>\n",
       "      <th>Review_Count</th>\n",
       "    </tr>\n",
       "  </thead>\n",
       "  <tbody>\n",
       "    <tr>\n",
       "      <th>0</th>\n",
       "      <td>7814346</td>\n",
       "      <td>15 mins</td>\n",
       "      <td>12 mins</td>\n",
       "      <td>20 mins</td>\n",
       "      <td>47 mins</td>\n",
       "      <td>2</td>\n",
       "      <td>2</td>\n",
       "      <td>257</td>\n",
       "      <td>7g</td>\n",
       "      <td>2g</td>\n",
       "      <td>...</td>\n",
       "      <td>37g</td>\n",
       "      <td>6g</td>\n",
       "      <td>1g</td>\n",
       "      <td>14g</td>\n",
       "      <td>16mg</td>\n",
       "      <td>220mg</td>\n",
       "      <td>8mg</td>\n",
       "      <td>462mg</td>\n",
       "      <td>5.0</td>\n",
       "      <td>1</td>\n",
       "    </tr>\n",
       "  </tbody>\n",
       "</table>\n",
       "<p>1 rows × 22 columns</p>\n",
       "</div>"
      ],
      "text/plain": [
       "  id_recipe Prep Time: Cook Time: Freeze Time: Total Time: Servings:  \\\n",
       "0   7814346    15 mins    12 mins      20 mins     47 mins        2    \n",
       "\n",
       "  Servings Per Recipe Calories Total Fat Saturated Fat  ...  \\\n",
       "0                   2      257        7g            2g  ...   \n",
       "\n",
       "  Total Carbohydrate Dietary Fiber Total Sugars Protein Vitamin C Calcium  \\\n",
       "0                37g            6g           1g     14g      16mg   220mg   \n",
       "\n",
       "  Iron Potassium Average_Review Review_Count  \n",
       "0  8mg     462mg            5.0            1  \n",
       "\n",
       "[1 rows x 22 columns]"
      ]
     },
     "execution_count": 38,
     "metadata": {},
     "output_type": "execute_result"
    }
   ],
   "source": [
    "rec_df.head(\n",
    ")"
   ]
  },
  {
   "cell_type": "markdown",
   "metadata": {},
   "source": [
    "Grab ingredients - this is a seperate DF\n"
   ]
  },
  {
   "cell_type": "code",
   "execution_count": 19,
   "metadata": {},
   "outputs": [],
   "source": [
    "ul_element = soup.find('ul', class_='mntl-structured-ingredients__list')"
   ]
  },
  {
   "cell_type": "markdown",
   "metadata": {},
   "source": [
    "grab ingredients"
   ]
  },
  {
   "cell_type": "code",
   "execution_count": 218,
   "metadata": {},
   "outputs": [],
   "source": [
    "\n",
    "\n",
    "# Find the <ul> element with the specified class\n",
    "ul_element = soup.find('ul', class_='mntl-structured-ingredients__list')\n",
    "\n",
    "# Check if the <ul> element was found\n",
    "if ul_element:\n",
    "    # Find all <li> elements within the <ul> element\n",
    "    li_elements = ul_element.find_all('li', class_='mntl-structured-ingredients__list-item')\n",
    "    \n",
    "    # Initialize lists to store extracted data\n",
    "    quantities = []\n",
    "    units = []\n",
    "    ingredients = []\n",
    "    \n",
    "    # Iterate through the <li> elements and extract data\n",
    "    for li in li_elements:\n",
    "        span_quantity = li.find('span', {'data-ingredient-quantity': 'true'})\n",
    "        span_unit = li.find('span', {'data-ingredient-unit': 'true'})\n",
    "        span_ingredient = li.find('span', {'data-ingredient-name': 'true'})\n",
    "        \n",
    "        if span_quantity:\n",
    "            quantities.append(span_quantity.text.strip())\n",
    "        else:\n",
    "            quantities.append('')\n",
    "        \n",
    "        if span_unit:\n",
    "            units.append(span_unit.text.strip())\n",
    "        else:\n",
    "            units.append('')\n",
    "        \n",
    "        if span_ingredient:\n",
    "            ingredients.append(span_ingredient.text.strip())\n",
    "        else:\n",
    "            ingredients.append('')\n",
    "    \n",
    "    # Print the extracted data\n",
    "    temp_ing_df = pd.DataFrame({'id_recipe':rkey,'Quantity': quantities, 'Unit of Measure': units, 'Ingredient': ingredients})\n",
    "    \n",
    "else:\n",
    "    print(\"The <ul> element with class 'mntl-structured-ingredients__list' was not found in the HTML.\")"
   ]
  },
  {
   "cell_type": "code",
   "execution_count": 219,
   "metadata": {},
   "outputs": [
    {
     "name": "stdout",
     "output_type": "stream",
     "text": [
      "  id_recipe Quantity Unit of Measure               Ingredient\n",
      "0   7814346      1/4             cup        all-purpose flour\n",
      "1   7814346      1/4        teaspoon                     salt\n",
      "2   7814346      1/8        teaspoon      ground black pepper\n",
      "3   7814346        1           large                      egg\n",
      "4   7814346      1/4             cup      talian bread crumbs\n",
      "5   7814346        2     tablespoons       panko bread crumbs\n",
      "6   7814346        2     tablespoons   grated Parmesan cheese\n",
      "7   7814346    1 (14      ounce) can  hearts of palm, drained\n",
      "8   7814346                                     cooking spray\n"
     ]
    }
   ],
   "source": [
    "print(temp_ing_df)"
   ]
  },
  {
   "cell_type": "code",
   "execution_count": 27,
   "metadata": {},
   "outputs": [],
   "source": [
    "#grab steps data\n",
    "# Find the <th> element with the specified class\n",
    "steps = soup.find('ol', class_=\"comp mntl-sc-block-group--OL mntl-sc-block mntl-sc-block-startgroup\")\n",
    "\n",
    "#\n",
    "step_desc=[]\n",
    "step_count=[]\n",
    "# Find the <td> element\n",
    "element = steps.find_all('li')\n",
    "c=1\n",
    "for el in element:\n",
    "    par = el.find_all('p')\n",
    "    step_desc.append(\"\".join(p.text.strip() for p in par))\n",
    "    step_count.append(c)\n",
    "    c += 1\n",
    "\n",
    "temp_steps_df = pd.DataFrame({'id_recipe':rkey,'Step_Count': step_count, 'Step Description': step_desc})\n"
   ]
  },
  {
   "cell_type": "markdown",
   "metadata": {},
   "source": [
    "Begin work on scraping all available links and categories"
   ]
  },
  {
   "cell_type": "code",
   "execution_count": 7,
   "metadata": {},
   "outputs": [],
   "source": [
    "response=requests.get(all_url)\n",
    "\n",
    "# Check if the request was successful (status code 200)\n",
    "if response.status_code == 200:\n",
    "    # Parse the HTML content of the page using BeautifulSoup\n",
    "    soup = BeautifulSoup(response.text, 'html.parser')\n",
    "    #WHERE all recipe data is stored\n",
    "    body = soup.body.main\n",
    "else:\n",
    "    print(\"Failed to retrieve the web page.\")"
   ]
  },
  {
   "cell_type": "code",
   "execution_count": 7,
   "metadata": {},
   "outputs": [],
   "source": [
    "\n"
   ]
  },
  {
   "cell_type": "markdown",
   "metadata": {},
   "source": [
    "Build a table to grab the hrefs and the name"
   ]
  },
  {
   "cell_type": "code",
   "execution_count": 8,
   "metadata": {},
   "outputs": [],
   "source": [
    "a_elements = body.find_all('a', class_='link-list__link type--dog-bold type--dog-link')\n",
    "href=[]\n",
    "text =[]\n",
    "\n",
    "# Iterate through the found <a> elements and print their text and href attributes\n",
    "for a in a_elements:\n",
    "    href.append(a.get('href'))\n",
    "    text.append(a.text.strip())\n",
    "\n",
    "df_ref = pd.DataFrame({'URL': href, 'Category': text})"
   ]
  },
  {
   "cell_type": "code",
   "execution_count": 11,
   "metadata": {},
   "outputs": [],
   "source": [
    "df_ref['Category']=df_ref['Category'].str.replace(' ','_').str.lower()"
   ]
  },
  {
   "cell_type": "code",
   "execution_count": 59,
   "metadata": {},
   "outputs": [],
   "source": [
    "cat_url=df_ref['URL'][1]\n",
    "\n",
    "response=requests.get(cat_url)\n",
    "\n",
    "# Check if the request was successful (status code 200)\n",
    "if response.status_code == 200:\n",
    "    # Parse the HTML content of the page using BeautifulSoup\n",
    "    soup = BeautifulSoup(response.text, 'html.parser')\n",
    "    #WHERE all recipe data is stored\n",
    "    body = soup.body.main\n",
    "else:\n",
    "    print(\"Failed to retrieve the web page.\")"
   ]
  },
  {
   "cell_type": "code",
   "execution_count": 60,
   "metadata": {},
   "outputs": [],
   "source": [
    "a_elements = body.find_all('a', class_='comp card--image-top mntl-card-list-items mntl-document-card mntl-card card card--no-image')\n",
    "href=[]\n",
    "rec_id=[]\n",
    "# Iterate through the found <a> elements and print their text and href attributes\n",
    "for a in a_elements:\n",
    "    href.append(a.get('href'))\n",
    "    rec_id.append(a.get('data-doc-id'))"
   ]
  },
  {
   "cell_type": "code",
   "execution_count": null,
   "metadata": {},
   "outputs": [],
   "source": []
  },
  {
   "cell_type": "code",
   "execution_count": 61,
   "metadata": {},
   "outputs": [],
   "source": [
    "a_elements = body.find_all('a', class_='comp mntl-card-list-items mntl-document-card mntl-card card card--no-image')\n",
    "\n",
    "# Iterate through the found <a> elements and print their text and href attributes\n",
    "for a in a_elements:\n",
    "    href.append(a.get('href'))\n",
    "    rec_id.append(a.get('data-doc-id'))\n"
   ]
  },
  {
   "cell_type": "code",
   "execution_count": 65,
   "metadata": {},
   "outputs": [],
   "source": [
    "cat_df= pd.DataFrame({'id_recipe':rec_id,'url_recipe': href})"
   ]
  },
  {
   "cell_type": "code",
   "execution_count": 12,
   "metadata": {},
   "outputs": [
    {
     "name": "stdout",
     "output_type": "stream",
     "text": [
      "0\n"
     ]
    }
   ],
   "source": [
    "df=''\n",
    "print(len(df))"
   ]
  }
 ],
 "metadata": {
  "kernelspec": {
   "display_name": "base",
   "language": "python",
   "name": "python3"
  },
  "language_info": {
   "codemirror_mode": {
    "name": "ipython",
    "version": 3
   },
   "file_extension": ".py",
   "mimetype": "text/x-python",
   "name": "python",
   "nbconvert_exporter": "python",
   "pygments_lexer": "ipython3",
   "version": "3.11.4"
  },
  "orig_nbformat": 4
 },
 "nbformat": 4,
 "nbformat_minor": 2
}
